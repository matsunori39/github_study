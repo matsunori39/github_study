{
  "nbformat": 4,
  "nbformat_minor": 0,
  "metadata": {
    "colab": {
      "name": "GitHub_study.ipynb",
      "provenance": [],
      "authorship_tag": "ABX9TyPzViw+2uY3VN4/FwnMA3SH",
      "include_colab_link": true
    },
    "kernelspec": {
      "name": "python3",
      "display_name": "Python 3"
    },
    "language_info": {
      "name": "python"
    }
  },
  "cells": [
    {
      "cell_type": "markdown",
      "metadata": {
        "id": "view-in-github",
        "colab_type": "text"
      },
      "source": [
        "<a href=\"https://colab.research.google.com/github/matsunori39/github_study/blob/tmp/GitHub_study.ipynb\" target=\"_parent\"><img src=\"https://colab.research.google.com/assets/colab-badge.svg\" alt=\"Open In Colab\"/></a>"
      ]
    },
    {
      "cell_type": "markdown",
      "metadata": {
        "id": "MycRjwtrkShh"
      },
      "source": [
        "Google Colab上でSQLを動かしてみます。"
      ]
    },
    {
      "cell_type": "code",
      "metadata": {
        "id": "te-KmTFdkOma"
      },
      "source": [
        "%create database TEST1.db"
      ],
      "execution_count": null,
      "outputs": []
    },
    {
      "cell_type": "code",
      "metadata": {
        "id": "FoQ2FmBwlbe9"
      },
      "source": [
        "create table meibo\n",
        "  (id int primary key, name varchar(20))"
      ],
      "execution_count": null,
      "outputs": []
    },
    {
      "cell_type": "code",
      "metadata": {
        "id": "gnK42pwNlce4"
      },
      "source": [
        "select * from meibo;"
      ],
      "execution_count": null,
      "outputs": []
    },
    {
      "cell_type": "code",
      "metadata": {
        "id": "nGhik39VlVv7"
      },
      "source": [
        "insert into meibo (id, name) values (1, \"Yamada\");"
      ],
      "execution_count": null,
      "outputs": []
    },
    {
      "cell_type": "code",
      "metadata": {
        "id": "zh1kSxTglVv7"
      },
      "source": [
        "insert into meibo (id, name) values (2, \"Tanaka\");"
      ],
      "execution_count": null,
      "outputs": []
    },
    {
      "cell_type": "code",
      "metadata": {
        "id": "7BVTIaRllVv7"
      },
      "source": [
        "insert into meibo (id, name) values (3, \"Sato\");"
      ],
      "execution_count": null,
      "outputs": []
    },
    {
      "cell_type": "code",
      "metadata": {
        "id": "_QgB8k9NlVv8"
      },
      "source": [
        "select * from meibo"
      ],
      "execution_count": null,
      "outputs": []
    },
    {
      "cell_type": "markdown",
      "metadata": {
        "id": "KIOMiAaMnMa8"
      },
      "source": [
        "実はこのままでは動かないはずです。"
      ]
    }
  ]
}